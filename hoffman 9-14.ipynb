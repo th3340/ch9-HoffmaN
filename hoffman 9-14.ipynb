{
 "cells": [
  {
   "cell_type": "markdown",
   "metadata": {},
   "source": [
    "Chapter 9 Hoffman Proggramer: Tobin Hoffman Notes for Chapter 9 class"
   ]
  },
  {
   "cell_type": "code",
   "execution_count": null,
   "metadata": {},
   "outputs": [],
   "source": [
    "from random import randint\n",
    "class Die():\n",
    "    \"\"\"Represent a die, which can be rolled.\"\"\"\n",
    "\n",
    "    def __init__(self, sides=6):\n",
    "        \"\"\"Initialize the die.\"\"\"\n",
    "        self.sides = sides\n",
    "\n",
    "    def roll_die(self):\n",
    "        \"\"\"Return a number between 1 and the number of sides.\"\"\"\n",
    "        return randint(1, self.sides)\n",
    "\n",
    "# Make a 6-sided die, and show the results of 10 rolls.\n",
    "d6 = Die()\n",
    "\n",
    "results = []\n",
    "for roll_num in range(10):\n",
    "    result = d6.roll_die()\n",
    "    results.append(result)\n",
    "print(\"10 rolls of a 6-sided die:\")\n",
    "print(results)\n",
    "\n",
    "# Make a 10-sided die, and show the results of 10 rolls.\n",
    "d10 = Die(sides=10)\n",
    "\n",
    "results = []\n",
    "for roll_num in range(10):\n",
    "    result = d10.roll_die()\n",
    "    results.append(result)\n",
    "print(\"\\n10 rolls of a 10-sided die:\")\n",
    "print(results)\n",
    "\n",
    "# Make a 20-sided die, and show the results of 10 rolls.\n",
    "d20 = Die(sides=20)\n",
    "\n",
    "results = []\n",
    "for roll_num in range(10):\n",
    "    result = d20.roll_die()\n",
    "    results.append(result)\n",
    "print(\"\\n10 rolls of a 20-sided die:\")\n",
    "print(results)"
   ]
  }
 ],
 "metadata": {
  "kernelspec": {
   "display_name": "Python 3",
   "language": "python",
   "name": "python3"
  },
  "language_info": {
   "codemirror_mode": {
    "name": "ipython",
    "version": 3
   },
   "file_extension": ".py",
   "mimetype": "text/x-python",
   "name": "python",
   "nbconvert_exporter": "python",
   "pygments_lexer": "ipython3",
   "version": "3.7.4"
  }
 },
 "nbformat": 4,
 "nbformat_minor": 2
}
